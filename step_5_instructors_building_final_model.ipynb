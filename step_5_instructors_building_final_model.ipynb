{
 "cells": [
  {
   "cell_type": "code",
   "execution_count": 1,
   "metadata": {
    "collapsed": true
   },
   "outputs": [],
   "source": [
    "import pandas as pd\n",
    "import numpy as np\n",
    "import matplotlib.pyplot as plt\n",
    "%matplotlib inline\n",
    "\n",
    "import seaborn as sns\n",
    "\n",
    "from IPython.display import display\n",
    "from scipy import stats\n",
    "from sklearn.model_selection import train_test_split\n",
    "\n",
    "%matplotlib inline \n",
    "np.random.seed(42)"
   ]
  },
  {
   "cell_type": "markdown",
   "metadata": {},
   "source": [
    "### Loading From UCI (Train and validation data)\n",
    "- 500 columns\n",
    "- 2000 obs from training, and 2000 obs from validation $\\Rightarrow$ 4000 total observations"
   ]
  },
  {
   "cell_type": "code",
   "execution_count": 2,
   "metadata": {
    "collapsed": true
   },
   "outputs": [],
   "source": [
    "df = pd.read_pickle('instructors_madelon_reduced_features.p')"
   ]
  },
  {
   "cell_type": "code",
   "execution_count": 3,
   "metadata": {},
   "outputs": [
    {
     "data": {
      "text/html": [
       "<div>\n",
       "<table border=\"1\" class=\"dataframe\">\n",
       "  <thead>\n",
       "    <tr style=\"text-align: right;\">\n",
       "      <th></th>\n",
       "      <th>_id</th>\n",
       "      <th>feat_257</th>\n",
       "      <th>feat_269</th>\n",
       "      <th>feat_308</th>\n",
       "      <th>feat_315</th>\n",
       "      <th>feat_336</th>\n",
       "      <th>feat_341</th>\n",
       "      <th>feat_395</th>\n",
       "      <th>feat_504</th>\n",
       "      <th>feat_526</th>\n",
       "      <th>...</th>\n",
       "      <th>feat_701</th>\n",
       "      <th>feat_724</th>\n",
       "      <th>feat_736</th>\n",
       "      <th>feat_769</th>\n",
       "      <th>feat_808</th>\n",
       "      <th>feat_829</th>\n",
       "      <th>feat_867</th>\n",
       "      <th>feat_920</th>\n",
       "      <th>feat_956</th>\n",
       "      <th>target</th>\n",
       "    </tr>\n",
       "  </thead>\n",
       "  <tbody>\n",
       "    <tr>\n",
       "      <th>0</th>\n",
       "      <td>170866</td>\n",
       "      <td>0.252421</td>\n",
       "      <td>3.059553</td>\n",
       "      <td>0.549202</td>\n",
       "      <td>1.505400</td>\n",
       "      <td>0.558945</td>\n",
       "      <td>2.649557</td>\n",
       "      <td>0.918241</td>\n",
       "      <td>0.773806</td>\n",
       "      <td>0.260477</td>\n",
       "      <td>...</td>\n",
       "      <td>-2.694026</td>\n",
       "      <td>-1.714143</td>\n",
       "      <td>0.688705</td>\n",
       "      <td>-0.780640</td>\n",
       "      <td>-0.162773</td>\n",
       "      <td>2.598932</td>\n",
       "      <td>1.171268</td>\n",
       "      <td>-2.489237</td>\n",
       "      <td>0.226046</td>\n",
       "      <td>0</td>\n",
       "    </tr>\n",
       "    <tr>\n",
       "      <th>1</th>\n",
       "      <td>90554</td>\n",
       "      <td>1.353174</td>\n",
       "      <td>0.260890</td>\n",
       "      <td>-2.233127</td>\n",
       "      <td>1.034565</td>\n",
       "      <td>1.351185</td>\n",
       "      <td>0.452291</td>\n",
       "      <td>-0.229178</td>\n",
       "      <td>1.502204</td>\n",
       "      <td>1.815267</td>\n",
       "      <td>...</td>\n",
       "      <td>-1.656428</td>\n",
       "      <td>1.125663</td>\n",
       "      <td>1.378048</td>\n",
       "      <td>1.882807</td>\n",
       "      <td>-1.209783</td>\n",
       "      <td>3.086035</td>\n",
       "      <td>0.069695</td>\n",
       "      <td>-1.371033</td>\n",
       "      <td>0.345675</td>\n",
       "      <td>0</td>\n",
       "    </tr>\n",
       "    <tr>\n",
       "      <th>2</th>\n",
       "      <td>44817</td>\n",
       "      <td>-0.778791</td>\n",
       "      <td>-4.338013</td>\n",
       "      <td>-1.926604</td>\n",
       "      <td>-1.470901</td>\n",
       "      <td>-0.409953</td>\n",
       "      <td>-3.527393</td>\n",
       "      <td>-0.402595</td>\n",
       "      <td>-0.275500</td>\n",
       "      <td>-0.217137</td>\n",
       "      <td>...</td>\n",
       "      <td>3.651437</td>\n",
       "      <td>1.867085</td>\n",
       "      <td>-0.056123</td>\n",
       "      <td>1.451549</td>\n",
       "      <td>0.366022</td>\n",
       "      <td>-3.556293</td>\n",
       "      <td>-1.848013</td>\n",
       "      <td>3.627442</td>\n",
       "      <td>-0.543230</td>\n",
       "      <td>0</td>\n",
       "    </tr>\n",
       "    <tr>\n",
       "      <th>3</th>\n",
       "      <td>13966</td>\n",
       "      <td>-1.311862</td>\n",
       "      <td>1.530704</td>\n",
       "      <td>0.921769</td>\n",
       "      <td>1.067135</td>\n",
       "      <td>-1.778740</td>\n",
       "      <td>-0.604283</td>\n",
       "      <td>-0.020201</td>\n",
       "      <td>-1.120061</td>\n",
       "      <td>0.361306</td>\n",
       "      <td>...</td>\n",
       "      <td>-1.633790</td>\n",
       "      <td>-1.029503</td>\n",
       "      <td>-0.609389</td>\n",
       "      <td>-0.366483</td>\n",
       "      <td>0.820188</td>\n",
       "      <td>-1.474820</td>\n",
       "      <td>1.439293</td>\n",
       "      <td>-0.415038</td>\n",
       "      <td>-1.506730</td>\n",
       "      <td>1</td>\n",
       "    </tr>\n",
       "    <tr>\n",
       "      <th>4</th>\n",
       "      <td>189542</td>\n",
       "      <td>1.972786</td>\n",
       "      <td>1.694196</td>\n",
       "      <td>-3.190931</td>\n",
       "      <td>0.102184</td>\n",
       "      <td>4.204283</td>\n",
       "      <td>1.477417</td>\n",
       "      <td>0.429671</td>\n",
       "      <td>-2.264772</td>\n",
       "      <td>1.107840</td>\n",
       "      <td>...</td>\n",
       "      <td>-0.449825</td>\n",
       "      <td>2.311717</td>\n",
       "      <td>3.197871</td>\n",
       "      <td>-1.011152</td>\n",
       "      <td>-3.580152</td>\n",
       "      <td>1.401875</td>\n",
       "      <td>-2.381935</td>\n",
       "      <td>1.252636</td>\n",
       "      <td>0.583428</td>\n",
       "      <td>1</td>\n",
       "    </tr>\n",
       "  </tbody>\n",
       "</table>\n",
       "<p>5 rows × 22 columns</p>\n",
       "</div>"
      ],
      "text/plain": [
       "      _id  feat_257  feat_269  feat_308  feat_315  feat_336  feat_341  \\\n",
       "0  170866  0.252421  3.059553  0.549202  1.505400  0.558945  2.649557   \n",
       "1   90554  1.353174  0.260890 -2.233127  1.034565  1.351185  0.452291   \n",
       "2   44817 -0.778791 -4.338013 -1.926604 -1.470901 -0.409953 -3.527393   \n",
       "3   13966 -1.311862  1.530704  0.921769  1.067135 -1.778740 -0.604283   \n",
       "4  189542  1.972786  1.694196 -3.190931  0.102184  4.204283  1.477417   \n",
       "\n",
       "   feat_395  feat_504  feat_526   ...    feat_701  feat_724  feat_736  \\\n",
       "0  0.918241  0.773806  0.260477   ...   -2.694026 -1.714143  0.688705   \n",
       "1 -0.229178  1.502204  1.815267   ...   -1.656428  1.125663  1.378048   \n",
       "2 -0.402595 -0.275500 -0.217137   ...    3.651437  1.867085 -0.056123   \n",
       "3 -0.020201 -1.120061  0.361306   ...   -1.633790 -1.029503 -0.609389   \n",
       "4  0.429671 -2.264772  1.107840   ...   -0.449825  2.311717  3.197871   \n",
       "\n",
       "   feat_769  feat_808  feat_829  feat_867  feat_920  feat_956  target  \n",
       "0 -0.780640 -0.162773  2.598932  1.171268 -2.489237  0.226046       0  \n",
       "1  1.882807 -1.209783  3.086035  0.069695 -1.371033  0.345675       0  \n",
       "2  1.451549  0.366022 -3.556293 -1.848013  3.627442 -0.543230       0  \n",
       "3 -0.366483  0.820188 -1.474820  1.439293 -0.415038 -1.506730       1  \n",
       "4 -1.011152 -3.580152  1.401875 -2.381935  1.252636  0.583428       1  \n",
       "\n",
       "[5 rows x 22 columns]"
      ]
     },
     "execution_count": 3,
     "metadata": {},
     "output_type": "execute_result"
    }
   ],
   "source": [
    "df.head()"
   ]
  },
  {
   "cell_type": "code",
   "execution_count": 4,
   "metadata": {
    "collapsed": true
   },
   "outputs": [],
   "source": [
    "df = df.set_index('_id')"
   ]
  },
  {
   "cell_type": "code",
   "execution_count": 5,
   "metadata": {},
   "outputs": [
    {
     "data": {
      "text/html": [
       "<div>\n",
       "<table border=\"1\" class=\"dataframe\">\n",
       "  <thead>\n",
       "    <tr style=\"text-align: right;\">\n",
       "      <th></th>\n",
       "      <th>feat_257</th>\n",
       "      <th>feat_269</th>\n",
       "      <th>feat_308</th>\n",
       "      <th>feat_315</th>\n",
       "      <th>feat_336</th>\n",
       "      <th>feat_341</th>\n",
       "      <th>feat_395</th>\n",
       "      <th>feat_504</th>\n",
       "      <th>feat_526</th>\n",
       "      <th>feat_639</th>\n",
       "      <th>...</th>\n",
       "      <th>feat_701</th>\n",
       "      <th>feat_724</th>\n",
       "      <th>feat_736</th>\n",
       "      <th>feat_769</th>\n",
       "      <th>feat_808</th>\n",
       "      <th>feat_829</th>\n",
       "      <th>feat_867</th>\n",
       "      <th>feat_920</th>\n",
       "      <th>feat_956</th>\n",
       "      <th>target</th>\n",
       "    </tr>\n",
       "    <tr>\n",
       "      <th>_id</th>\n",
       "      <th></th>\n",
       "      <th></th>\n",
       "      <th></th>\n",
       "      <th></th>\n",
       "      <th></th>\n",
       "      <th></th>\n",
       "      <th></th>\n",
       "      <th></th>\n",
       "      <th></th>\n",
       "      <th></th>\n",
       "      <th></th>\n",
       "      <th></th>\n",
       "      <th></th>\n",
       "      <th></th>\n",
       "      <th></th>\n",
       "      <th></th>\n",
       "      <th></th>\n",
       "      <th></th>\n",
       "      <th></th>\n",
       "      <th></th>\n",
       "      <th></th>\n",
       "    </tr>\n",
       "  </thead>\n",
       "  <tbody>\n",
       "    <tr>\n",
       "      <th>170866</th>\n",
       "      <td>0.252421</td>\n",
       "      <td>3.059553</td>\n",
       "      <td>0.549202</td>\n",
       "      <td>1.505400</td>\n",
       "      <td>0.558945</td>\n",
       "      <td>2.649557</td>\n",
       "      <td>0.918241</td>\n",
       "      <td>0.773806</td>\n",
       "      <td>0.260477</td>\n",
       "      <td>0.291553</td>\n",
       "      <td>...</td>\n",
       "      <td>-2.694026</td>\n",
       "      <td>-1.714143</td>\n",
       "      <td>0.688705</td>\n",
       "      <td>-0.780640</td>\n",
       "      <td>-0.162773</td>\n",
       "      <td>2.598932</td>\n",
       "      <td>1.171268</td>\n",
       "      <td>-2.489237</td>\n",
       "      <td>0.226046</td>\n",
       "      <td>0</td>\n",
       "    </tr>\n",
       "    <tr>\n",
       "      <th>90554</th>\n",
       "      <td>1.353174</td>\n",
       "      <td>0.260890</td>\n",
       "      <td>-2.233127</td>\n",
       "      <td>1.034565</td>\n",
       "      <td>1.351185</td>\n",
       "      <td>0.452291</td>\n",
       "      <td>-0.229178</td>\n",
       "      <td>1.502204</td>\n",
       "      <td>1.815267</td>\n",
       "      <td>0.758823</td>\n",
       "      <td>...</td>\n",
       "      <td>-1.656428</td>\n",
       "      <td>1.125663</td>\n",
       "      <td>1.378048</td>\n",
       "      <td>1.882807</td>\n",
       "      <td>-1.209783</td>\n",
       "      <td>3.086035</td>\n",
       "      <td>0.069695</td>\n",
       "      <td>-1.371033</td>\n",
       "      <td>0.345675</td>\n",
       "      <td>0</td>\n",
       "    </tr>\n",
       "    <tr>\n",
       "      <th>44817</th>\n",
       "      <td>-0.778791</td>\n",
       "      <td>-4.338013</td>\n",
       "      <td>-1.926604</td>\n",
       "      <td>-1.470901</td>\n",
       "      <td>-0.409953</td>\n",
       "      <td>-3.527393</td>\n",
       "      <td>-0.402595</td>\n",
       "      <td>-0.275500</td>\n",
       "      <td>-0.217137</td>\n",
       "      <td>-0.298457</td>\n",
       "      <td>...</td>\n",
       "      <td>3.651437</td>\n",
       "      <td>1.867085</td>\n",
       "      <td>-0.056123</td>\n",
       "      <td>1.451549</td>\n",
       "      <td>0.366022</td>\n",
       "      <td>-3.556293</td>\n",
       "      <td>-1.848013</td>\n",
       "      <td>3.627442</td>\n",
       "      <td>-0.543230</td>\n",
       "      <td>0</td>\n",
       "    </tr>\n",
       "    <tr>\n",
       "      <th>13966</th>\n",
       "      <td>-1.311862</td>\n",
       "      <td>1.530704</td>\n",
       "      <td>0.921769</td>\n",
       "      <td>1.067135</td>\n",
       "      <td>-1.778740</td>\n",
       "      <td>-0.604283</td>\n",
       "      <td>-0.020201</td>\n",
       "      <td>-1.120061</td>\n",
       "      <td>0.361306</td>\n",
       "      <td>-1.790795</td>\n",
       "      <td>...</td>\n",
       "      <td>-1.633790</td>\n",
       "      <td>-1.029503</td>\n",
       "      <td>-0.609389</td>\n",
       "      <td>-0.366483</td>\n",
       "      <td>0.820188</td>\n",
       "      <td>-1.474820</td>\n",
       "      <td>1.439293</td>\n",
       "      <td>-0.415038</td>\n",
       "      <td>-1.506730</td>\n",
       "      <td>1</td>\n",
       "    </tr>\n",
       "    <tr>\n",
       "      <th>189542</th>\n",
       "      <td>1.972786</td>\n",
       "      <td>1.694196</td>\n",
       "      <td>-3.190931</td>\n",
       "      <td>0.102184</td>\n",
       "      <td>4.204283</td>\n",
       "      <td>1.477417</td>\n",
       "      <td>0.429671</td>\n",
       "      <td>-2.264772</td>\n",
       "      <td>1.107840</td>\n",
       "      <td>0.606318</td>\n",
       "      <td>...</td>\n",
       "      <td>-0.449825</td>\n",
       "      <td>2.311717</td>\n",
       "      <td>3.197871</td>\n",
       "      <td>-1.011152</td>\n",
       "      <td>-3.580152</td>\n",
       "      <td>1.401875</td>\n",
       "      <td>-2.381935</td>\n",
       "      <td>1.252636</td>\n",
       "      <td>0.583428</td>\n",
       "      <td>1</td>\n",
       "    </tr>\n",
       "  </tbody>\n",
       "</table>\n",
       "<p>5 rows × 21 columns</p>\n",
       "</div>"
      ],
      "text/plain": [
       "        feat_257  feat_269  feat_308  feat_315  feat_336  feat_341  feat_395  \\\n",
       "_id                                                                            \n",
       "170866  0.252421  3.059553  0.549202  1.505400  0.558945  2.649557  0.918241   \n",
       "90554   1.353174  0.260890 -2.233127  1.034565  1.351185  0.452291 -0.229178   \n",
       "44817  -0.778791 -4.338013 -1.926604 -1.470901 -0.409953 -3.527393 -0.402595   \n",
       "13966  -1.311862  1.530704  0.921769  1.067135 -1.778740 -0.604283 -0.020201   \n",
       "189542  1.972786  1.694196 -3.190931  0.102184  4.204283  1.477417  0.429671   \n",
       "\n",
       "        feat_504  feat_526  feat_639   ...    feat_701  feat_724  feat_736  \\\n",
       "_id                                    ...                                   \n",
       "170866  0.773806  0.260477  0.291553   ...   -2.694026 -1.714143  0.688705   \n",
       "90554   1.502204  1.815267  0.758823   ...   -1.656428  1.125663  1.378048   \n",
       "44817  -0.275500 -0.217137 -0.298457   ...    3.651437  1.867085 -0.056123   \n",
       "13966  -1.120061  0.361306 -1.790795   ...   -1.633790 -1.029503 -0.609389   \n",
       "189542 -2.264772  1.107840  0.606318   ...   -0.449825  2.311717  3.197871   \n",
       "\n",
       "        feat_769  feat_808  feat_829  feat_867  feat_920  feat_956  target  \n",
       "_id                                                                         \n",
       "170866 -0.780640 -0.162773  2.598932  1.171268 -2.489237  0.226046       0  \n",
       "90554   1.882807 -1.209783  3.086035  0.069695 -1.371033  0.345675       0  \n",
       "44817   1.451549  0.366022 -3.556293 -1.848013  3.627442 -0.543230       0  \n",
       "13966  -0.366483  0.820188 -1.474820  1.439293 -0.415038 -1.506730       1  \n",
       "189542 -1.011152 -3.580152  1.401875 -2.381935  1.252636  0.583428       1  \n",
       "\n",
       "[5 rows x 21 columns]"
      ]
     },
     "execution_count": 5,
     "metadata": {},
     "output_type": "execute_result"
    }
   ],
   "source": [
    "df.head()"
   ]
  },
  {
   "cell_type": "code",
   "execution_count": 6,
   "metadata": {
    "collapsed": true
   },
   "outputs": [],
   "source": [
    "df = df.reset_index(drop = True)"
   ]
  },
  {
   "cell_type": "code",
   "execution_count": 7,
   "metadata": {},
   "outputs": [
    {
     "data": {
      "text/html": [
       "<div>\n",
       "<table border=\"1\" class=\"dataframe\">\n",
       "  <thead>\n",
       "    <tr style=\"text-align: right;\">\n",
       "      <th></th>\n",
       "      <th>feat_257</th>\n",
       "      <th>feat_269</th>\n",
       "      <th>feat_308</th>\n",
       "      <th>feat_315</th>\n",
       "      <th>feat_336</th>\n",
       "      <th>feat_341</th>\n",
       "      <th>feat_395</th>\n",
       "      <th>feat_504</th>\n",
       "      <th>feat_526</th>\n",
       "      <th>feat_639</th>\n",
       "      <th>...</th>\n",
       "      <th>feat_701</th>\n",
       "      <th>feat_724</th>\n",
       "      <th>feat_736</th>\n",
       "      <th>feat_769</th>\n",
       "      <th>feat_808</th>\n",
       "      <th>feat_829</th>\n",
       "      <th>feat_867</th>\n",
       "      <th>feat_920</th>\n",
       "      <th>feat_956</th>\n",
       "      <th>target</th>\n",
       "    </tr>\n",
       "  </thead>\n",
       "  <tbody>\n",
       "    <tr>\n",
       "      <th>0</th>\n",
       "      <td>0.252421</td>\n",
       "      <td>3.059553</td>\n",
       "      <td>0.549202</td>\n",
       "      <td>1.505400</td>\n",
       "      <td>0.558945</td>\n",
       "      <td>2.649557</td>\n",
       "      <td>0.918241</td>\n",
       "      <td>0.773806</td>\n",
       "      <td>0.260477</td>\n",
       "      <td>0.291553</td>\n",
       "      <td>...</td>\n",
       "      <td>-2.694026</td>\n",
       "      <td>-1.714143</td>\n",
       "      <td>0.688705</td>\n",
       "      <td>-0.780640</td>\n",
       "      <td>-0.162773</td>\n",
       "      <td>2.598932</td>\n",
       "      <td>1.171268</td>\n",
       "      <td>-2.489237</td>\n",
       "      <td>0.226046</td>\n",
       "      <td>0</td>\n",
       "    </tr>\n",
       "    <tr>\n",
       "      <th>1</th>\n",
       "      <td>1.353174</td>\n",
       "      <td>0.260890</td>\n",
       "      <td>-2.233127</td>\n",
       "      <td>1.034565</td>\n",
       "      <td>1.351185</td>\n",
       "      <td>0.452291</td>\n",
       "      <td>-0.229178</td>\n",
       "      <td>1.502204</td>\n",
       "      <td>1.815267</td>\n",
       "      <td>0.758823</td>\n",
       "      <td>...</td>\n",
       "      <td>-1.656428</td>\n",
       "      <td>1.125663</td>\n",
       "      <td>1.378048</td>\n",
       "      <td>1.882807</td>\n",
       "      <td>-1.209783</td>\n",
       "      <td>3.086035</td>\n",
       "      <td>0.069695</td>\n",
       "      <td>-1.371033</td>\n",
       "      <td>0.345675</td>\n",
       "      <td>0</td>\n",
       "    </tr>\n",
       "    <tr>\n",
       "      <th>2</th>\n",
       "      <td>-0.778791</td>\n",
       "      <td>-4.338013</td>\n",
       "      <td>-1.926604</td>\n",
       "      <td>-1.470901</td>\n",
       "      <td>-0.409953</td>\n",
       "      <td>-3.527393</td>\n",
       "      <td>-0.402595</td>\n",
       "      <td>-0.275500</td>\n",
       "      <td>-0.217137</td>\n",
       "      <td>-0.298457</td>\n",
       "      <td>...</td>\n",
       "      <td>3.651437</td>\n",
       "      <td>1.867085</td>\n",
       "      <td>-0.056123</td>\n",
       "      <td>1.451549</td>\n",
       "      <td>0.366022</td>\n",
       "      <td>-3.556293</td>\n",
       "      <td>-1.848013</td>\n",
       "      <td>3.627442</td>\n",
       "      <td>-0.543230</td>\n",
       "      <td>0</td>\n",
       "    </tr>\n",
       "    <tr>\n",
       "      <th>3</th>\n",
       "      <td>-1.311862</td>\n",
       "      <td>1.530704</td>\n",
       "      <td>0.921769</td>\n",
       "      <td>1.067135</td>\n",
       "      <td>-1.778740</td>\n",
       "      <td>-0.604283</td>\n",
       "      <td>-0.020201</td>\n",
       "      <td>-1.120061</td>\n",
       "      <td>0.361306</td>\n",
       "      <td>-1.790795</td>\n",
       "      <td>...</td>\n",
       "      <td>-1.633790</td>\n",
       "      <td>-1.029503</td>\n",
       "      <td>-0.609389</td>\n",
       "      <td>-0.366483</td>\n",
       "      <td>0.820188</td>\n",
       "      <td>-1.474820</td>\n",
       "      <td>1.439293</td>\n",
       "      <td>-0.415038</td>\n",
       "      <td>-1.506730</td>\n",
       "      <td>1</td>\n",
       "    </tr>\n",
       "    <tr>\n",
       "      <th>4</th>\n",
       "      <td>1.972786</td>\n",
       "      <td>1.694196</td>\n",
       "      <td>-3.190931</td>\n",
       "      <td>0.102184</td>\n",
       "      <td>4.204283</td>\n",
       "      <td>1.477417</td>\n",
       "      <td>0.429671</td>\n",
       "      <td>-2.264772</td>\n",
       "      <td>1.107840</td>\n",
       "      <td>0.606318</td>\n",
       "      <td>...</td>\n",
       "      <td>-0.449825</td>\n",
       "      <td>2.311717</td>\n",
       "      <td>3.197871</td>\n",
       "      <td>-1.011152</td>\n",
       "      <td>-3.580152</td>\n",
       "      <td>1.401875</td>\n",
       "      <td>-2.381935</td>\n",
       "      <td>1.252636</td>\n",
       "      <td>0.583428</td>\n",
       "      <td>1</td>\n",
       "    </tr>\n",
       "  </tbody>\n",
       "</table>\n",
       "<p>5 rows × 21 columns</p>\n",
       "</div>"
      ],
      "text/plain": [
       "   feat_257  feat_269  feat_308  feat_315  feat_336  feat_341  feat_395  \\\n",
       "0  0.252421  3.059553  0.549202  1.505400  0.558945  2.649557  0.918241   \n",
       "1  1.353174  0.260890 -2.233127  1.034565  1.351185  0.452291 -0.229178   \n",
       "2 -0.778791 -4.338013 -1.926604 -1.470901 -0.409953 -3.527393 -0.402595   \n",
       "3 -1.311862  1.530704  0.921769  1.067135 -1.778740 -0.604283 -0.020201   \n",
       "4  1.972786  1.694196 -3.190931  0.102184  4.204283  1.477417  0.429671   \n",
       "\n",
       "   feat_504  feat_526  feat_639   ...    feat_701  feat_724  feat_736  \\\n",
       "0  0.773806  0.260477  0.291553   ...   -2.694026 -1.714143  0.688705   \n",
       "1  1.502204  1.815267  0.758823   ...   -1.656428  1.125663  1.378048   \n",
       "2 -0.275500 -0.217137 -0.298457   ...    3.651437  1.867085 -0.056123   \n",
       "3 -1.120061  0.361306 -1.790795   ...   -1.633790 -1.029503 -0.609389   \n",
       "4 -2.264772  1.107840  0.606318   ...   -0.449825  2.311717  3.197871   \n",
       "\n",
       "   feat_769  feat_808  feat_829  feat_867  feat_920  feat_956  target  \n",
       "0 -0.780640 -0.162773  2.598932  1.171268 -2.489237  0.226046       0  \n",
       "1  1.882807 -1.209783  3.086035  0.069695 -1.371033  0.345675       0  \n",
       "2  1.451549  0.366022 -3.556293 -1.848013  3.627442 -0.543230       0  \n",
       "3 -0.366483  0.820188 -1.474820  1.439293 -0.415038 -1.506730       1  \n",
       "4 -1.011152 -3.580152  1.401875 -2.381935  1.252636  0.583428       1  \n",
       "\n",
       "[5 rows x 21 columns]"
      ]
     },
     "execution_count": 7,
     "metadata": {},
     "output_type": "execute_result"
    }
   ],
   "source": [
    "df.head()"
   ]
  },
  {
   "cell_type": "code",
   "execution_count": 8,
   "metadata": {
    "collapsed": true
   },
   "outputs": [],
   "source": [
    "df.columns = [257, 269, 308, 315, 336, 341, 395, 504, 526, 639, 681, 701, 724, 736, 769, 808, 829, 867, 920, 956, 'target']"
   ]
  },
  {
   "cell_type": "code",
   "execution_count": 9,
   "metadata": {},
   "outputs": [
    {
     "data": {
      "text/html": [
       "<div>\n",
       "<table border=\"1\" class=\"dataframe\">\n",
       "  <thead>\n",
       "    <tr style=\"text-align: right;\">\n",
       "      <th></th>\n",
       "      <th>257</th>\n",
       "      <th>269</th>\n",
       "      <th>308</th>\n",
       "      <th>315</th>\n",
       "      <th>336</th>\n",
       "      <th>341</th>\n",
       "      <th>395</th>\n",
       "      <th>504</th>\n",
       "      <th>526</th>\n",
       "      <th>639</th>\n",
       "      <th>...</th>\n",
       "      <th>701</th>\n",
       "      <th>724</th>\n",
       "      <th>736</th>\n",
       "      <th>769</th>\n",
       "      <th>808</th>\n",
       "      <th>829</th>\n",
       "      <th>867</th>\n",
       "      <th>920</th>\n",
       "      <th>956</th>\n",
       "      <th>target</th>\n",
       "    </tr>\n",
       "  </thead>\n",
       "  <tbody>\n",
       "    <tr>\n",
       "      <th>0</th>\n",
       "      <td>0.252421</td>\n",
       "      <td>3.059553</td>\n",
       "      <td>0.549202</td>\n",
       "      <td>1.505400</td>\n",
       "      <td>0.558945</td>\n",
       "      <td>2.649557</td>\n",
       "      <td>0.918241</td>\n",
       "      <td>0.773806</td>\n",
       "      <td>0.260477</td>\n",
       "      <td>0.291553</td>\n",
       "      <td>...</td>\n",
       "      <td>-2.694026</td>\n",
       "      <td>-1.714143</td>\n",
       "      <td>0.688705</td>\n",
       "      <td>-0.780640</td>\n",
       "      <td>-0.162773</td>\n",
       "      <td>2.598932</td>\n",
       "      <td>1.171268</td>\n",
       "      <td>-2.489237</td>\n",
       "      <td>0.226046</td>\n",
       "      <td>0</td>\n",
       "    </tr>\n",
       "    <tr>\n",
       "      <th>1</th>\n",
       "      <td>1.353174</td>\n",
       "      <td>0.260890</td>\n",
       "      <td>-2.233127</td>\n",
       "      <td>1.034565</td>\n",
       "      <td>1.351185</td>\n",
       "      <td>0.452291</td>\n",
       "      <td>-0.229178</td>\n",
       "      <td>1.502204</td>\n",
       "      <td>1.815267</td>\n",
       "      <td>0.758823</td>\n",
       "      <td>...</td>\n",
       "      <td>-1.656428</td>\n",
       "      <td>1.125663</td>\n",
       "      <td>1.378048</td>\n",
       "      <td>1.882807</td>\n",
       "      <td>-1.209783</td>\n",
       "      <td>3.086035</td>\n",
       "      <td>0.069695</td>\n",
       "      <td>-1.371033</td>\n",
       "      <td>0.345675</td>\n",
       "      <td>0</td>\n",
       "    </tr>\n",
       "    <tr>\n",
       "      <th>2</th>\n",
       "      <td>-0.778791</td>\n",
       "      <td>-4.338013</td>\n",
       "      <td>-1.926604</td>\n",
       "      <td>-1.470901</td>\n",
       "      <td>-0.409953</td>\n",
       "      <td>-3.527393</td>\n",
       "      <td>-0.402595</td>\n",
       "      <td>-0.275500</td>\n",
       "      <td>-0.217137</td>\n",
       "      <td>-0.298457</td>\n",
       "      <td>...</td>\n",
       "      <td>3.651437</td>\n",
       "      <td>1.867085</td>\n",
       "      <td>-0.056123</td>\n",
       "      <td>1.451549</td>\n",
       "      <td>0.366022</td>\n",
       "      <td>-3.556293</td>\n",
       "      <td>-1.848013</td>\n",
       "      <td>3.627442</td>\n",
       "      <td>-0.543230</td>\n",
       "      <td>0</td>\n",
       "    </tr>\n",
       "    <tr>\n",
       "      <th>3</th>\n",
       "      <td>-1.311862</td>\n",
       "      <td>1.530704</td>\n",
       "      <td>0.921769</td>\n",
       "      <td>1.067135</td>\n",
       "      <td>-1.778740</td>\n",
       "      <td>-0.604283</td>\n",
       "      <td>-0.020201</td>\n",
       "      <td>-1.120061</td>\n",
       "      <td>0.361306</td>\n",
       "      <td>-1.790795</td>\n",
       "      <td>...</td>\n",
       "      <td>-1.633790</td>\n",
       "      <td>-1.029503</td>\n",
       "      <td>-0.609389</td>\n",
       "      <td>-0.366483</td>\n",
       "      <td>0.820188</td>\n",
       "      <td>-1.474820</td>\n",
       "      <td>1.439293</td>\n",
       "      <td>-0.415038</td>\n",
       "      <td>-1.506730</td>\n",
       "      <td>1</td>\n",
       "    </tr>\n",
       "    <tr>\n",
       "      <th>4</th>\n",
       "      <td>1.972786</td>\n",
       "      <td>1.694196</td>\n",
       "      <td>-3.190931</td>\n",
       "      <td>0.102184</td>\n",
       "      <td>4.204283</td>\n",
       "      <td>1.477417</td>\n",
       "      <td>0.429671</td>\n",
       "      <td>-2.264772</td>\n",
       "      <td>1.107840</td>\n",
       "      <td>0.606318</td>\n",
       "      <td>...</td>\n",
       "      <td>-0.449825</td>\n",
       "      <td>2.311717</td>\n",
       "      <td>3.197871</td>\n",
       "      <td>-1.011152</td>\n",
       "      <td>-3.580152</td>\n",
       "      <td>1.401875</td>\n",
       "      <td>-2.381935</td>\n",
       "      <td>1.252636</td>\n",
       "      <td>0.583428</td>\n",
       "      <td>1</td>\n",
       "    </tr>\n",
       "  </tbody>\n",
       "</table>\n",
       "<p>5 rows × 21 columns</p>\n",
       "</div>"
      ],
      "text/plain": [
       "        257       269       308       315       336       341       395  \\\n",
       "0  0.252421  3.059553  0.549202  1.505400  0.558945  2.649557  0.918241   \n",
       "1  1.353174  0.260890 -2.233127  1.034565  1.351185  0.452291 -0.229178   \n",
       "2 -0.778791 -4.338013 -1.926604 -1.470901 -0.409953 -3.527393 -0.402595   \n",
       "3 -1.311862  1.530704  0.921769  1.067135 -1.778740 -0.604283 -0.020201   \n",
       "4  1.972786  1.694196 -3.190931  0.102184  4.204283  1.477417  0.429671   \n",
       "\n",
       "        504       526       639   ...         701       724       736  \\\n",
       "0  0.773806  0.260477  0.291553   ...   -2.694026 -1.714143  0.688705   \n",
       "1  1.502204  1.815267  0.758823   ...   -1.656428  1.125663  1.378048   \n",
       "2 -0.275500 -0.217137 -0.298457   ...    3.651437  1.867085 -0.056123   \n",
       "3 -1.120061  0.361306 -1.790795   ...   -1.633790 -1.029503 -0.609389   \n",
       "4 -2.264772  1.107840  0.606318   ...   -0.449825  2.311717  3.197871   \n",
       "\n",
       "        769       808       829       867       920       956  target  \n",
       "0 -0.780640 -0.162773  2.598932  1.171268 -2.489237  0.226046       0  \n",
       "1  1.882807 -1.209783  3.086035  0.069695 -1.371033  0.345675       0  \n",
       "2  1.451549  0.366022 -3.556293 -1.848013  3.627442 -0.543230       0  \n",
       "3 -0.366483  0.820188 -1.474820  1.439293 -0.415038 -1.506730       1  \n",
       "4 -1.011152 -3.580152  1.401875 -2.381935  1.252636  0.583428       1  \n",
       "\n",
       "[5 rows x 21 columns]"
      ]
     },
     "execution_count": 9,
     "metadata": {},
     "output_type": "execute_result"
    }
   ],
   "source": [
    "df.head()"
   ]
  },
  {
   "cell_type": "code",
   "execution_count": 10,
   "metadata": {},
   "outputs": [
    {
     "data": {
      "text/plain": [
       "(100000, 21)"
      ]
     },
     "execution_count": 10,
     "metadata": {},
     "output_type": "execute_result"
    }
   ],
   "source": [
    "df.shape #100000 observations"
   ]
  },
  {
   "cell_type": "code",
   "execution_count": 11,
   "metadata": {
    "collapsed": true
   },
   "outputs": [],
   "source": [
    "from sklearn.preprocessing import StandardScaler"
   ]
  },
  {
   "cell_type": "markdown",
   "metadata": {},
   "source": [
    "### EDA with the reduced feature list"
   ]
  },
  {
   "cell_type": "code",
   "execution_count": 12,
   "metadata": {
    "collapsed": true
   },
   "outputs": [],
   "source": [
    "X = df.drop('target', axis = 1)"
   ]
  },
  {
   "cell_type": "code",
   "execution_count": 13,
   "metadata": {},
   "outputs": [
    {
     "data": {
      "image/png": "[encoded data removed]",
      "text/plain": [
       "<matplotlib.figure.Figure at 0x7fb609c8e7b8>"
      ]
     },
     "metadata": {},
     "output_type": "display_data"
    }
   ],
   "source": [
    "fig = plt.figure(figsize = (12,10))\n",
    "j = 0\n",
    "\n",
    "for i in X.columns:\n",
    "    j += 1\n",
    "    fig.add_subplot(5,4,j)\n",
    "    plt.hist(df[i], color= 'b') #'b', 'r', 'y', 'k', 'w'\n",
    "    plt.title(i)\n",
    "    # plt.savefig\n",
    "    \n",
    "plt.tight_layout()"
   ]
  },
  {
   "cell_type": "code",
   "execution_count": 14,
   "metadata": {
    "collapsed": true
   },
   "outputs": [],
   "source": [
    "y = df['target']"
   ]
  },
  {
   "cell_type": "code",
   "execution_count": 15,
   "metadata": {
    "collapsed": true
   },
   "outputs": [],
   "source": [
    "cor = X.corr()"
   ]
  },
  {
   "cell_type": "code",
   "execution_count": 16,
   "metadata": {},
   "outputs": [
    {
     "data": {
      "text/plain": [
       "<matplotlib.axes._subplots.AxesSubplot at 0x7fb608d59908>"
      ]
     },
     "execution_count": 16,
     "metadata": {},
     "output_type": "execute_result"
    },
    {
     "data": {
      "image/png": "[encoded data removed]",
      "text/plain": [
       "<matplotlib.figure.Figure at 0x7fb608dd29e8>"
      ]
     },
     "metadata": {},
     "output_type": "display_data"
    }
   ],
   "source": [
    "sns.heatmap(cor)"
   ]
  },
  {
   "cell_type": "code",
   "execution_count": 17,
   "metadata": {
    "collapsed": true
   },
   "outputs": [],
   "source": [
    "big_cor = cor.where(abs(cor) > .8)"
   ]
  },
  {
   "cell_type": "code",
   "execution_count": 18,
   "metadata": {},
   "outputs": [
    {
     "data": {
      "text/plain": [
       "<matplotlib.axes._subplots.AxesSubplot at 0x7fb6091e7b70>"
      ]
     },
     "execution_count": 18,
     "metadata": {},
     "output_type": "execute_result"
    },
    {
     "data": {
      "image/png": "[encoded data removed]",
      "text/plain": [
       "<matplotlib.figure.Figure at 0x7fb608ce88d0>"
      ]
     },
     "metadata": {},
     "output_type": "display_data"
    }
   ],
   "source": [
    "sns.heatmap(big_cor.replace(np.nan, 0)) #not a lot of high correlations => good"
   ]
  },
  {
   "cell_type": "code",
   "execution_count": 19,
   "metadata": {},
   "outputs": [
    {
     "name": "stderr",
     "output_type": "stream",
     "text": [
      "/opt/conda/lib/python3.6/site-packages/sklearn/cross_validation.py:44: DeprecationWarning: This module was deprecated in version 0.18 in favor of the model_selection module into which all the refactored classes and functions are moved. Also note that the interface of the new CV iterators are different from that of this module. This module will be removed in 0.20.\n",
      "  \"This module will be removed in 0.20.\", DeprecationWarning)\n"
     ]
    }
   ],
   "source": [
    "from sklearn.linear_model import LogisticRegression\n",
    "from sklearn.neighbors import KNeighborsClassifier\n",
    "from sklearn.tree import DecisionTreeClassifier\n",
    "from sklearn.cross_validation import train_test_split\n",
    "\n",
    "from sklearn.preprocessing import StandardScaler"
   ]
  },
  {
   "cell_type": "code",
   "execution_count": 20,
   "metadata": {
    "collapsed": true
   },
   "outputs": [],
   "source": [
    "def fit_benchmark_model(X, y, model, name):\n",
    "    #train test split\n",
    "    X_train, X_test, y_train, y_test = train_test_split(X, y, random_state = 42)\n",
    "    #scale the data\n",
    "    scaler = StandardScaler()\n",
    "    # Fit_transform\n",
    "    X_train_scaled = scaler.fit_transform(X_train)\n",
    "    # transform\n",
    "    X_test_scaled = scaler.transform(X_test)\n",
    "    \n",
    "    model.fit(X_train_scaled, y_train)\n",
    "    return (name, model.score(X_train_scaled, y_train), model.score(X_test_scaled, y_test))"
   ]
  },
  {
   "cell_type": "code",
   "execution_count": 21,
   "metadata": {},
   "outputs": [
    {
     "data": {
      "text/plain": [
       "('Logistic Regression', 0.6057866666666667, 0.60236000000000001)"
      ]
     },
     "execution_count": 21,
     "metadata": {},
     "output_type": "execute_result"
    }
   ],
   "source": [
    "fit_benchmark_model(X, y, LogisticRegression(C = 100), 'Logistic Regression')"
   ]
  },
  {
   "cell_type": "code",
   "execution_count": 22,
   "metadata": {},
   "outputs": [
    {
     "data": {
      "text/plain": [
       "('KNN', 0.89532, 0.84719999999999995)"
      ]
     },
     "execution_count": 22,
     "metadata": {},
     "output_type": "execute_result"
    }
   ],
   "source": [
    "fit_benchmark_model(X, y, KNeighborsClassifier(), 'KNN')"
   ]
  },
  {
   "cell_type": "code",
   "execution_count": 23,
   "metadata": {},
   "outputs": [
    {
     "data": {
      "text/plain": [
       "('Decision tree', 1.0, 0.78480000000000005)"
      ]
     },
     "execution_count": 23,
     "metadata": {},
     "output_type": "execute_result"
    }
   ],
   "source": [
    "fit_benchmark_model(X, y, DecisionTreeClassifier(), 'Decision tree')"
   ]
  },
  {
   "cell_type": "code",
   "execution_count": 24,
   "metadata": {
    "collapsed": true
   },
   "outputs": [],
   "source": [
    "from sklearn.metrics import accuracy_score, confusion_matrix\n",
    "from sklearn.decomposition import PCA"
   ]
  },
  {
   "cell_type": "code",
   "execution_count": 25,
   "metadata": {},
   "outputs": [
    {
     "data": {
      "text/plain": [
       "PCA(copy=True, iterated_power='auto', n_components=5, random_state=None,\n",
       "  svd_solver='auto', tol=0.0, whiten=False)"
      ]
     },
     "execution_count": 25,
     "metadata": {},
     "output_type": "execute_result"
    }
   ],
   "source": [
    "subjective_pca = PCA(n_components=5)\n",
    "subjective_pca.fit(X)"
   ]
  },
  {
   "cell_type": "code",
   "execution_count": 26,
   "metadata": {},
   "outputs": [
    {
     "data": {
      "text/plain": [
       "array([ 0.36623852,  0.31958935,  0.13661047,  0.10214676,  0.0754149 ])"
      ]
     },
     "execution_count": 26,
     "metadata": {},
     "output_type": "execute_result"
    }
   ],
   "source": [
    "subjective_pca.explained_variance_ratio_"
   ]
  },
  {
   "cell_type": "code",
   "execution_count": 27,
   "metadata": {},
   "outputs": [
    {
     "data": {
      "text/plain": [
       "0.9999999400000001"
      ]
     },
     "execution_count": 27,
     "metadata": {},
     "output_type": "execute_result"
    }
   ],
   "source": [
    "0.36623852+0.31958935+0.13661047+0.1021467 + 0.0754149 "
   ]
  },
  {
   "cell_type": "code",
   "execution_count": 28,
   "metadata": {
    "collapsed": true
   },
   "outputs": [],
   "source": [
    "X_pca = subjective_pca.transform(X)\n",
    "X_pca = pd.DataFrame(X_pca)"
   ]
  },
  {
   "cell_type": "code",
   "execution_count": 29,
   "metadata": {
    "collapsed": true
   },
   "outputs": [],
   "source": [
    "decent11 = [257, 308, 341, 504, 526, 681, 736, 769, 808, 829, 920]\n",
    "X = X[decent11]"
   ]
  },
  {
   "cell_type": "code",
   "execution_count": 30,
   "metadata": {
    "collapsed": true
   },
   "outputs": [],
   "source": [
    "X_train, X_test, y_train, y_test = train_test_split(X, y, random_state = 42)\n",
    "\n",
    "from sklearn.model_selection import GridSearchCV"
   ]
  },
  {
   "cell_type": "code",
   "execution_count": 31,
   "metadata": {},
   "outputs": [
    {
     "data": {
      "text/plain": [
       "KNeighborsClassifier(algorithm='auto', leaf_size=30, metric='minkowski',\n",
       "           metric_params=None, n_jobs=1, n_neighbors=9, p=2,\n",
       "           weights='uniform')"
      ]
     },
     "execution_count": 31,
     "metadata": {},
     "output_type": "execute_result"
    }
   ],
   "source": [
    "knc_params = {\n",
    "        'n_neighbors':[3,4,5,6,7,8,9,10]\n",
    "    }\n",
    "\n",
    "knc_gs = GridSearchCV(KNeighborsClassifier(), param_grid= knc_params, cv=5)\n",
    "knc_gs.fit(X_train, y_train)\n",
    "knc_gs.best_estimator_"
   ]
  },
  {
   "cell_type": "code",
   "execution_count": 32,
   "metadata": {},
   "outputs": [
    {
     "data": {
      "text/plain": [
       "(0.88104000000000005, 0.84940000000000004)"
      ]
     },
     "execution_count": 32,
     "metadata": {},
     "output_type": "execute_result"
    }
   ],
   "source": [
    "knc_gs.score(X_train, y_train), knc_gs.score(X_test, y_test)"
   ]
  },
  {
   "cell_type": "code",
   "execution_count": 34,
   "metadata": {
    "collapsed": true
   },
   "outputs": [],
   "source": [
    "from sklearn.ensemble import RandomForestClassifier"
   ]
  },
  {
   "cell_type": "code",
   "execution_count": 35,
   "metadata": {},
   "outputs": [
    {
     "data": {
      "text/plain": [
       "{'max_features': 'auto', 'n_estimators': 100}"
      ]
     },
     "execution_count": 35,
     "metadata": {},
     "output_type": "execute_result"
    }
   ],
   "source": [
    "rfparams = {\n",
    "    'n_estimators':[100],\n",
    "    'max_features':['auto']\n",
    "}\n",
    "\n",
    "rf_gs = GridSearchCV(RandomForestClassifier(), param_grid=rfparams, cv=5,n_jobs=-1)\n",
    "rf_gs.fit(X_train, y_train)\n",
    "rf_gs.best_params_"
   ]
  },
  {
   "cell_type": "code",
   "execution_count": 36,
   "metadata": {},
   "outputs": [
    {
     "data": {
      "text/plain": [
       "(0.99998666666666669, 0.85572000000000004)"
      ]
     },
     "execution_count": 36,
     "metadata": {},
     "output_type": "execute_result"
    }
   ],
   "source": [
    "rf_gs.score(X_train, y_train), rf_gs.score(X_test, y_test)"
   ]
  },
  {
   "cell_type": "code",
   "execution_count": 38,
   "metadata": {},
   "outputs": [
    {
     "data": {
      "text/plain": [
       "array([[10744,  1770],\n",
       "       [ 1837, 10649]])"
      ]
     },
     "execution_count": 38,
     "metadata": {},
     "output_type": "execute_result"
    }
   ],
   "source": [
    "y_pred = rf_gs.predict(X_test)\n",
    "confusion_matrix(y_test, y_pred)"
   ]
  },
  {
   "cell_type": "markdown",
   "metadata": {},
   "source": [
    "### Now with PCA"
   ]
  },
  {
   "cell_type": "code",
   "execution_count": 30,
   "metadata": {
    "collapsed": true
   },
   "outputs": [],
   "source": [
    "X_train, X_test, y_train, y_test = train_test_split(X_pca, y, random_state = 42)"
   ]
  },
  {
   "cell_type": "code",
   "execution_count": 31,
   "metadata": {},
   "outputs": [
    {
     "data": {
      "text/plain": [
       "KNeighborsClassifier(algorithm='auto', leaf_size=30, metric='minkowski',\n",
       "           metric_params=None, n_jobs=1, n_neighbors=7, p=2,\n",
       "           weights='uniform')"
      ]
     },
     "execution_count": 31,
     "metadata": {},
     "output_type": "execute_result"
    }
   ],
   "source": [
    "knc_params = {\n",
    "        'n_neighbors':[3,4,5,6,7,8,9,10]\n",
    "    }\n",
    "\n",
    "knc_gs = GridSearchCV(KNeighborsClassifier(), param_grid= knc_params, cv=5)\n",
    "knc_gs.fit(X_train, y_train)\n",
    "knc_gs.best_estimator_"
   ]
  },
  {
   "cell_type": "code",
   "execution_count": 32,
   "metadata": {},
   "outputs": [
    {
     "data": {
      "text/plain": [
       "(0.88533333333333331, 0.84855999999999998)"
      ]
     },
     "execution_count": 32,
     "metadata": {},
     "output_type": "execute_result"
    }
   ],
   "source": [
    "knc_gs.score(X_train, y_train), knc_gs.score(X_test, y_test)"
   ]
  },
  {
   "cell_type": "code",
   "execution_count": 34,
   "metadata": {},
   "outputs": [
    {
     "data": {
      "text/plain": [
       "{'max_features': 'auto', 'n_estimators': 100}"
      ]
     },
     "execution_count": 34,
     "metadata": {},
     "output_type": "execute_result"
    }
   ],
   "source": [
    "rfparams = {\n",
    "    'n_estimators':[100],\n",
    "    'max_features':['auto']\n",
    "}\n",
    "\n",
    "rf_gs = GridSearchCV(RandomForestClassifier(), param_grid=rfparams, cv=2,n_jobs=-1)\n",
    "rf_gs.fit(X_train, y_train)\n",
    "rf_gs.best_params_"
   ]
  },
  {
   "cell_type": "code",
   "execution_count": 35,
   "metadata": {},
   "outputs": [
    {
     "data": {
      "text/plain": [
       "(0.99997333333333338, 0.85224)"
      ]
     },
     "execution_count": 35,
     "metadata": {},
     "output_type": "execute_result"
    }
   ],
   "source": [
    "rf_gs.score(X_train, y_train), rf_gs.score(X_test, y_test)"
   ]
  }
 ],
 "metadata": {
  "kernelspec": {
   "display_name": "Python 3",
   "language": "python",
   "name": "python3"
  },
  "language_info": {
   "codemirror_mode": {
    "name": "ipython",
    "version": 3
   },
   "file_extension": ".py",
   "mimetype": "text/x-python",
   "name": "python",
   "nbconvert_exporter": "python",
   "pygments_lexer": "ipython3",
   "version": "3.6.2"
  }
 },
 "nbformat": 4,
 "nbformat_minor": 2
}
